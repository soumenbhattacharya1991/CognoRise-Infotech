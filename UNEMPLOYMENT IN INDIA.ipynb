{
 "cells": [
  {
   "cell_type": "markdown",
   "id": "147571e5",
   "metadata": {},
   "source": [
    "# COGNORISE INFOTECH_ TASK 1_ UNEMPLOYEMENT IN INDIA "
   ]
  },
  {
   "cell_type": "markdown",
   "id": "e3a20baf",
   "metadata": {},
   "source": [
    "OBJECTIVE:\n",
    "\n",
    "Unemployment is measured by the unemployment rate which is the number of people who are unemployed as a percentage of the total labour force. During the Covid-19 period there was a sharp increase in the unemployment rate. So in this assignment we have to analyze the unemployment rate using Python"
   ]
  },
  {
   "cell_type": "code",
   "execution_count": 1,
   "id": "486b3190",
   "metadata": {},
   "outputs": [],
   "source": [
    "import numpy as np\n",
    "import pandas as pd\n",
    "import matplotlib.pyplot as plt\n",
    "import seaborn as sns\n",
    "import datetime as dt\n",
    "import calendar\n",
    "import plotly.graph_objects as go\n",
    "import warnings\n",
    "warnings.filterwarnings(\"ignore\")\n",
    "%matplotlib inline"
   ]
  },
  {
   "cell_type": "code",
   "execution_count": 33,
   "id": "1b0ad6e7",
   "metadata": {
    "scrolled": true
   },
   "outputs": [
    {
     "name": "stdout",
     "output_type": "stream",
     "text": [
      "           Region         Date  Frequency   Estimated Unemployment Rate (%)  \\\n",
      "0  Andhra Pradesh   31-01-2020          M                              5.48   \n",
      "1  Andhra Pradesh   29-02-2020          M                              5.83   \n",
      "2  Andhra Pradesh   31-03-2020          M                              5.79   \n",
      "3  Andhra Pradesh   30-04-2020          M                             20.51   \n",
      "4  Andhra Pradesh   31-05-2020          M                             17.43   \n",
      "\n",
      "    Estimated Employed   Estimated Labour Participation Rate (%) Region.1  \\\n",
      "0             16635535                                     41.02    South   \n",
      "1             16545652                                     40.90    South   \n",
      "2             15881197                                     39.18    South   \n",
      "3             11336911                                     33.10    South   \n",
      "4             12988845                                     36.46    South   \n",
      "\n",
      "   longitude  latitude  \n",
      "0    15.9129     79.74  \n",
      "1    15.9129     79.74  \n",
      "2    15.9129     79.74  \n",
      "3    15.9129     79.74  \n",
      "4    15.9129     79.74  \n"
     ]
    }
   ],
   "source": [
    "data_set = r\"D:\\CognoRise Infotech\\Unemployment_Rate_upto_11_2020.csv\"\n",
    "\n",
    "# Read the CSV file into a DataFrame\n",
    "try:\n",
    "    df = pd.read_csv(data_set)\n",
    "    \n",
    "    # Now you can work with the DataFrame (df) as needed\n",
    "    print(df.head())\n",
    "    \n",
    "except FileNotFoundError:\n",
    "    print(f\"File not found at the specified path: {file_path}\")"
   ]
  },
  {
   "cell_type": "code",
   "execution_count": 3,
   "id": "9c9bcdae",
   "metadata": {},
   "outputs": [
    {
     "data": {
      "text/html": [
       "<div>\n",
       "<style scoped>\n",
       "    .dataframe tbody tr th:only-of-type {\n",
       "        vertical-align: middle;\n",
       "    }\n",
       "\n",
       "    .dataframe tbody tr th {\n",
       "        vertical-align: top;\n",
       "    }\n",
       "\n",
       "    .dataframe thead th {\n",
       "        text-align: right;\n",
       "    }\n",
       "</style>\n",
       "<table border=\"1\" class=\"dataframe\">\n",
       "  <thead>\n",
       "    <tr style=\"text-align: right;\">\n",
       "      <th></th>\n",
       "      <th>Region</th>\n",
       "      <th>Date</th>\n",
       "      <th>Frequency</th>\n",
       "      <th>Estimated Unemployment Rate (%)</th>\n",
       "      <th>Estimated Employed</th>\n",
       "      <th>Estimated Labour Participation Rate (%)</th>\n",
       "      <th>Region.1</th>\n",
       "      <th>longitude</th>\n",
       "      <th>latitude</th>\n",
       "    </tr>\n",
       "  </thead>\n",
       "  <tbody>\n",
       "    <tr>\n",
       "      <th>0</th>\n",
       "      <td>Andhra Pradesh</td>\n",
       "      <td>31-01-2020</td>\n",
       "      <td>M</td>\n",
       "      <td>5.48</td>\n",
       "      <td>16635535</td>\n",
       "      <td>41.02</td>\n",
       "      <td>South</td>\n",
       "      <td>15.9129</td>\n",
       "      <td>79.74</td>\n",
       "    </tr>\n",
       "    <tr>\n",
       "      <th>1</th>\n",
       "      <td>Andhra Pradesh</td>\n",
       "      <td>29-02-2020</td>\n",
       "      <td>M</td>\n",
       "      <td>5.83</td>\n",
       "      <td>16545652</td>\n",
       "      <td>40.90</td>\n",
       "      <td>South</td>\n",
       "      <td>15.9129</td>\n",
       "      <td>79.74</td>\n",
       "    </tr>\n",
       "    <tr>\n",
       "      <th>2</th>\n",
       "      <td>Andhra Pradesh</td>\n",
       "      <td>31-03-2020</td>\n",
       "      <td>M</td>\n",
       "      <td>5.79</td>\n",
       "      <td>15881197</td>\n",
       "      <td>39.18</td>\n",
       "      <td>South</td>\n",
       "      <td>15.9129</td>\n",
       "      <td>79.74</td>\n",
       "    </tr>\n",
       "    <tr>\n",
       "      <th>3</th>\n",
       "      <td>Andhra Pradesh</td>\n",
       "      <td>30-04-2020</td>\n",
       "      <td>M</td>\n",
       "      <td>20.51</td>\n",
       "      <td>11336911</td>\n",
       "      <td>33.10</td>\n",
       "      <td>South</td>\n",
       "      <td>15.9129</td>\n",
       "      <td>79.74</td>\n",
       "    </tr>\n",
       "    <tr>\n",
       "      <th>4</th>\n",
       "      <td>Andhra Pradesh</td>\n",
       "      <td>31-05-2020</td>\n",
       "      <td>M</td>\n",
       "      <td>17.43</td>\n",
       "      <td>12988845</td>\n",
       "      <td>36.46</td>\n",
       "      <td>South</td>\n",
       "      <td>15.9129</td>\n",
       "      <td>79.74</td>\n",
       "    </tr>\n",
       "  </tbody>\n",
       "</table>\n",
       "</div>"
      ],
      "text/plain": [
       "           Region         Date  Frequency   Estimated Unemployment Rate (%)  \\\n",
       "0  Andhra Pradesh   31-01-2020          M                              5.48   \n",
       "1  Andhra Pradesh   29-02-2020          M                              5.83   \n",
       "2  Andhra Pradesh   31-03-2020          M                              5.79   \n",
       "3  Andhra Pradesh   30-04-2020          M                             20.51   \n",
       "4  Andhra Pradesh   31-05-2020          M                             17.43   \n",
       "\n",
       "    Estimated Employed   Estimated Labour Participation Rate (%) Region.1  \\\n",
       "0             16635535                                     41.02    South   \n",
       "1             16545652                                     40.90    South   \n",
       "2             15881197                                     39.18    South   \n",
       "3             11336911                                     33.10    South   \n",
       "4             12988845                                     36.46    South   \n",
       "\n",
       "   longitude  latitude  \n",
       "0    15.9129     79.74  \n",
       "1    15.9129     79.74  \n",
       "2    15.9129     79.74  \n",
       "3    15.9129     79.74  \n",
       "4    15.9129     79.74  "
      ]
     },
     "execution_count": 3,
     "metadata": {},
     "output_type": "execute_result"
    }
   ],
   "source": [
    "df.head()"
   ]
  },
  {
   "cell_type": "code",
   "execution_count": 4,
   "id": "7b9f3356",
   "metadata": {},
   "outputs": [],
   "source": [
    "#updating the column names\n",
    "\n",
    "df.columns=[\"State\",\"Date\",\"Frequency\",\"Estimated unemployment rate\",\"Estimated employed\",\"Estimated labour participation rate\",\"Region\",\"Longitude\",\"Latitude\"]"
   ]
  },
  {
   "cell_type": "code",
   "execution_count": 5,
   "id": "0efcb96f",
   "metadata": {},
   "outputs": [
    {
     "data": {
      "text/html": [
       "<div>\n",
       "<style scoped>\n",
       "    .dataframe tbody tr th:only-of-type {\n",
       "        vertical-align: middle;\n",
       "    }\n",
       "\n",
       "    .dataframe tbody tr th {\n",
       "        vertical-align: top;\n",
       "    }\n",
       "\n",
       "    .dataframe thead th {\n",
       "        text-align: right;\n",
       "    }\n",
       "</style>\n",
       "<table border=\"1\" class=\"dataframe\">\n",
       "  <thead>\n",
       "    <tr style=\"text-align: right;\">\n",
       "      <th></th>\n",
       "      <th>State</th>\n",
       "      <th>Date</th>\n",
       "      <th>Frequency</th>\n",
       "      <th>Estimated unemployment rate</th>\n",
       "      <th>Estimated employed</th>\n",
       "      <th>Estimated labour participation rate</th>\n",
       "      <th>Region</th>\n",
       "      <th>Longitude</th>\n",
       "      <th>Latitude</th>\n",
       "    </tr>\n",
       "  </thead>\n",
       "  <tbody>\n",
       "    <tr>\n",
       "      <th>0</th>\n",
       "      <td>Andhra Pradesh</td>\n",
       "      <td>31-01-2020</td>\n",
       "      <td>M</td>\n",
       "      <td>5.48</td>\n",
       "      <td>16635535</td>\n",
       "      <td>41.02</td>\n",
       "      <td>South</td>\n",
       "      <td>15.9129</td>\n",
       "      <td>79.74</td>\n",
       "    </tr>\n",
       "    <tr>\n",
       "      <th>1</th>\n",
       "      <td>Andhra Pradesh</td>\n",
       "      <td>29-02-2020</td>\n",
       "      <td>M</td>\n",
       "      <td>5.83</td>\n",
       "      <td>16545652</td>\n",
       "      <td>40.90</td>\n",
       "      <td>South</td>\n",
       "      <td>15.9129</td>\n",
       "      <td>79.74</td>\n",
       "    </tr>\n",
       "    <tr>\n",
       "      <th>2</th>\n",
       "      <td>Andhra Pradesh</td>\n",
       "      <td>31-03-2020</td>\n",
       "      <td>M</td>\n",
       "      <td>5.79</td>\n",
       "      <td>15881197</td>\n",
       "      <td>39.18</td>\n",
       "      <td>South</td>\n",
       "      <td>15.9129</td>\n",
       "      <td>79.74</td>\n",
       "    </tr>\n",
       "    <tr>\n",
       "      <th>3</th>\n",
       "      <td>Andhra Pradesh</td>\n",
       "      <td>30-04-2020</td>\n",
       "      <td>M</td>\n",
       "      <td>20.51</td>\n",
       "      <td>11336911</td>\n",
       "      <td>33.10</td>\n",
       "      <td>South</td>\n",
       "      <td>15.9129</td>\n",
       "      <td>79.74</td>\n",
       "    </tr>\n",
       "    <tr>\n",
       "      <th>4</th>\n",
       "      <td>Andhra Pradesh</td>\n",
       "      <td>31-05-2020</td>\n",
       "      <td>M</td>\n",
       "      <td>17.43</td>\n",
       "      <td>12988845</td>\n",
       "      <td>36.46</td>\n",
       "      <td>South</td>\n",
       "      <td>15.9129</td>\n",
       "      <td>79.74</td>\n",
       "    </tr>\n",
       "  </tbody>\n",
       "</table>\n",
       "</div>"
      ],
      "text/plain": [
       "            State         Date Frequency  Estimated unemployment rate  \\\n",
       "0  Andhra Pradesh   31-01-2020         M                         5.48   \n",
       "1  Andhra Pradesh   29-02-2020         M                         5.83   \n",
       "2  Andhra Pradesh   31-03-2020         M                         5.79   \n",
       "3  Andhra Pradesh   30-04-2020         M                        20.51   \n",
       "4  Andhra Pradesh   31-05-2020         M                        17.43   \n",
       "\n",
       "   Estimated employed  Estimated labour participation rate Region  Longitude  \\\n",
       "0            16635535                                41.02  South    15.9129   \n",
       "1            16545652                                40.90  South    15.9129   \n",
       "2            15881197                                39.18  South    15.9129   \n",
       "3            11336911                                33.10  South    15.9129   \n",
       "4            12988845                                36.46  South    15.9129   \n",
       "\n",
       "   Latitude  \n",
       "0     79.74  \n",
       "1     79.74  \n",
       "2     79.74  \n",
       "3     79.74  \n",
       "4     79.74  "
      ]
     },
     "execution_count": 5,
     "metadata": {},
     "output_type": "execute_result"
    }
   ],
   "source": [
    "df.head()\n"
   ]
  },
  {
   "cell_type": "code",
   "execution_count": 6,
   "id": "72166678",
   "metadata": {},
   "outputs": [
    {
     "data": {
      "text/plain": [
       "(267, 9)"
      ]
     },
     "execution_count": 6,
     "metadata": {},
     "output_type": "execute_result"
    }
   ],
   "source": [
    "df.shape"
   ]
  },
  {
   "cell_type": "code",
   "execution_count": 7,
   "id": "c983760d",
   "metadata": {},
   "outputs": [
    {
     "data": {
      "text/plain": [
       "Index(['State', 'Date', 'Frequency', 'Estimated unemployment rate',\n",
       "       'Estimated employed', 'Estimated labour participation rate', 'Region',\n",
       "       'Longitude', 'Latitude'],\n",
       "      dtype='object')"
      ]
     },
     "execution_count": 7,
     "metadata": {},
     "output_type": "execute_result"
    }
   ],
   "source": [
    "df.columns\n"
   ]
  },
  {
   "cell_type": "code",
   "execution_count": 8,
   "id": "8c3ae069",
   "metadata": {},
   "outputs": [
    {
     "data": {
      "text/html": [
       "<div>\n",
       "<style scoped>\n",
       "    .dataframe tbody tr th:only-of-type {\n",
       "        vertical-align: middle;\n",
       "    }\n",
       "\n",
       "    .dataframe tbody tr th {\n",
       "        vertical-align: top;\n",
       "    }\n",
       "\n",
       "    .dataframe thead th {\n",
       "        text-align: right;\n",
       "    }\n",
       "</style>\n",
       "<table border=\"1\" class=\"dataframe\">\n",
       "  <thead>\n",
       "    <tr style=\"text-align: right;\">\n",
       "      <th></th>\n",
       "      <th>Estimated unemployment rate</th>\n",
       "      <th>Estimated employed</th>\n",
       "      <th>Estimated labour participation rate</th>\n",
       "      <th>Longitude</th>\n",
       "      <th>Latitude</th>\n",
       "    </tr>\n",
       "  </thead>\n",
       "  <tbody>\n",
       "    <tr>\n",
       "      <th>count</th>\n",
       "      <td>267.000000</td>\n",
       "      <td>2.670000e+02</td>\n",
       "      <td>267.000000</td>\n",
       "      <td>267.000000</td>\n",
       "      <td>267.000000</td>\n",
       "    </tr>\n",
       "    <tr>\n",
       "      <th>mean</th>\n",
       "      <td>12.236929</td>\n",
       "      <td>1.396211e+07</td>\n",
       "      <td>41.681573</td>\n",
       "      <td>22.826048</td>\n",
       "      <td>80.532425</td>\n",
       "    </tr>\n",
       "    <tr>\n",
       "      <th>std</th>\n",
       "      <td>10.803283</td>\n",
       "      <td>1.336632e+07</td>\n",
       "      <td>7.845419</td>\n",
       "      <td>6.270731</td>\n",
       "      <td>5.831738</td>\n",
       "    </tr>\n",
       "    <tr>\n",
       "      <th>min</th>\n",
       "      <td>0.500000</td>\n",
       "      <td>1.175420e+05</td>\n",
       "      <td>16.770000</td>\n",
       "      <td>10.850500</td>\n",
       "      <td>71.192400</td>\n",
       "    </tr>\n",
       "    <tr>\n",
       "      <th>25%</th>\n",
       "      <td>4.845000</td>\n",
       "      <td>2.838930e+06</td>\n",
       "      <td>37.265000</td>\n",
       "      <td>18.112400</td>\n",
       "      <td>76.085600</td>\n",
       "    </tr>\n",
       "    <tr>\n",
       "      <th>50%</th>\n",
       "      <td>9.650000</td>\n",
       "      <td>9.732417e+06</td>\n",
       "      <td>40.390000</td>\n",
       "      <td>23.610200</td>\n",
       "      <td>79.019300</td>\n",
       "    </tr>\n",
       "    <tr>\n",
       "      <th>75%</th>\n",
       "      <td>16.755000</td>\n",
       "      <td>2.187869e+07</td>\n",
       "      <td>44.055000</td>\n",
       "      <td>27.278400</td>\n",
       "      <td>85.279900</td>\n",
       "    </tr>\n",
       "    <tr>\n",
       "      <th>max</th>\n",
       "      <td>75.850000</td>\n",
       "      <td>5.943376e+07</td>\n",
       "      <td>69.690000</td>\n",
       "      <td>33.778200</td>\n",
       "      <td>92.937600</td>\n",
       "    </tr>\n",
       "  </tbody>\n",
       "</table>\n",
       "</div>"
      ],
      "text/plain": [
       "       Estimated unemployment rate  Estimated employed  \\\n",
       "count                   267.000000        2.670000e+02   \n",
       "mean                     12.236929        1.396211e+07   \n",
       "std                      10.803283        1.336632e+07   \n",
       "min                       0.500000        1.175420e+05   \n",
       "25%                       4.845000        2.838930e+06   \n",
       "50%                       9.650000        9.732417e+06   \n",
       "75%                      16.755000        2.187869e+07   \n",
       "max                      75.850000        5.943376e+07   \n",
       "\n",
       "       Estimated labour participation rate   Longitude    Latitude  \n",
       "count                           267.000000  267.000000  267.000000  \n",
       "mean                             41.681573   22.826048   80.532425  \n",
       "std                               7.845419    6.270731    5.831738  \n",
       "min                              16.770000   10.850500   71.192400  \n",
       "25%                              37.265000   18.112400   76.085600  \n",
       "50%                              40.390000   23.610200   79.019300  \n",
       "75%                              44.055000   27.278400   85.279900  \n",
       "max                              69.690000   33.778200   92.937600  "
      ]
     },
     "execution_count": 8,
     "metadata": {},
     "output_type": "execute_result"
    }
   ],
   "source": [
    "df.describe()\n"
   ]
  },
  {
   "cell_type": "code",
   "execution_count": 9,
   "id": "533024f8",
   "metadata": {},
   "outputs": [
    {
     "data": {
      "text/plain": [
       "(267, 9)"
      ]
     },
     "execution_count": 9,
     "metadata": {},
     "output_type": "execute_result"
    }
   ],
   "source": [
    "df= df.drop_duplicates()     #removing duplicates\n",
    "df.shape"
   ]
  },
  {
   "cell_type": "code",
   "execution_count": 10,
   "id": "984362a5",
   "metadata": {},
   "outputs": [
    {
     "data": {
      "text/plain": [
       "State                                   object\n",
       "Date                                    object\n",
       "Frequency                               object\n",
       "Estimated unemployment rate            float64\n",
       "Estimated employed                       int64\n",
       "Estimated labour participation rate    float64\n",
       "Region                                  object\n",
       "Longitude                              float64\n",
       "Latitude                               float64\n",
       "dtype: object"
      ]
     },
     "execution_count": 10,
     "metadata": {},
     "output_type": "execute_result"
    }
   ],
   "source": [
    "df.dtypes"
   ]
  },
  {
   "cell_type": "code",
   "execution_count": 11,
   "id": "0ec070e4",
   "metadata": {},
   "outputs": [],
   "source": [
    "df[\"Date\"]=pd.to_datetime(df[\"Date\"])"
   ]
  },
  {
   "cell_type": "code",
   "execution_count": 12,
   "id": "734c75a1",
   "metadata": {},
   "outputs": [
    {
     "data": {
      "text/plain": [
       "State                                          object\n",
       "Date                                   datetime64[ns]\n",
       "Frequency                                      object\n",
       "Estimated unemployment rate                   float64\n",
       "Estimated employed                              int64\n",
       "Estimated labour participation rate           float64\n",
       "Region                                         object\n",
       "Longitude                                     float64\n",
       "Latitude                                      float64\n",
       "dtype: object"
      ]
     },
     "execution_count": 12,
     "metadata": {},
     "output_type": "execute_result"
    }
   ],
   "source": [
    "df.dtypes"
   ]
  },
  {
   "cell_type": "code",
   "execution_count": 13,
   "id": "0e8e17ce",
   "metadata": {},
   "outputs": [
    {
     "data": {
      "text/plain": [
       "State                                  0\n",
       "Date                                   0\n",
       "Frequency                              0\n",
       "Estimated unemployment rate            0\n",
       "Estimated employed                     0\n",
       "Estimated labour participation rate    0\n",
       "Region                                 0\n",
       "Longitude                              0\n",
       "Latitude                               0\n",
       "dtype: int64"
      ]
     },
     "execution_count": 13,
     "metadata": {},
     "output_type": "execute_result"
    }
   ],
   "source": [
    "df.isnull().sum()"
   ]
  },
  {
   "cell_type": "code",
   "execution_count": 14,
   "id": "85781434",
   "metadata": {},
   "outputs": [
    {
     "data": {
      "text/plain": [
       "False"
      ]
     },
     "execution_count": 14,
     "metadata": {},
     "output_type": "execute_result"
    }
   ],
   "source": [
    "df.duplicated().any()"
   ]
  },
  {
   "cell_type": "code",
   "execution_count": 15,
   "id": "483c3495",
   "metadata": {},
   "outputs": [],
   "source": [
    "#Converting 'Frequency' and 'Region' columns to categorical data type\n",
    "\n",
    "df['Frequency'] = df['Frequency'].astype('category')\n",
    "df['Region'] = df['Region'].astype('category')"
   ]
  },
  {
   "cell_type": "code",
   "execution_count": 16,
   "id": "5800aadf",
   "metadata": {},
   "outputs": [
    {
     "data": {
      "text/plain": [
       "State                                          object\n",
       "Date                                   datetime64[ns]\n",
       "Frequency                                    category\n",
       "Estimated unemployment rate                   float64\n",
       "Estimated employed                              int64\n",
       "Estimated labour participation rate           float64\n",
       "Region                                       category\n",
       "Longitude                                     float64\n",
       "Latitude                                      float64\n",
       "dtype: object"
      ]
     },
     "execution_count": 16,
     "metadata": {},
     "output_type": "execute_result"
    }
   ],
   "source": [
    "df.dtypes"
   ]
  },
  {
   "cell_type": "code",
   "execution_count": 17,
   "id": "e523d6ed",
   "metadata": {},
   "outputs": [],
   "source": [
    "#extract month\n",
    "\n",
    "df[\"month\"]=df[\"Date\"].dt.month\n",
    "\n",
    "#converting 'month' to integer format\n",
    "\n",
    "df['Month_int'] = df['month'].apply(lambda x: int(x))\n",
    "\n",
    "# Mapping integer month values to abbreviated month names\n",
    "\n",
    "df['Month_name'] = df['Month_int'].apply(lambda x: calendar.month_abbr[x])"
   ]
  },
  {
   "cell_type": "code",
   "execution_count": 18,
   "id": "2bb81a01",
   "metadata": {},
   "outputs": [
    {
     "data": {
      "text/html": [
       "<div>\n",
       "<style scoped>\n",
       "    .dataframe tbody tr th:only-of-type {\n",
       "        vertical-align: middle;\n",
       "    }\n",
       "\n",
       "    .dataframe tbody tr th {\n",
       "        vertical-align: top;\n",
       "    }\n",
       "\n",
       "    .dataframe thead th {\n",
       "        text-align: right;\n",
       "    }\n",
       "</style>\n",
       "<table border=\"1\" class=\"dataframe\">\n",
       "  <thead>\n",
       "    <tr style=\"text-align: right;\">\n",
       "      <th></th>\n",
       "      <th>State</th>\n",
       "      <th>Date</th>\n",
       "      <th>Frequency</th>\n",
       "      <th>Estimated unemployment rate</th>\n",
       "      <th>Estimated employed</th>\n",
       "      <th>Estimated labour participation rate</th>\n",
       "      <th>Region</th>\n",
       "      <th>Longitude</th>\n",
       "      <th>Latitude</th>\n",
       "      <th>month</th>\n",
       "      <th>Month_int</th>\n",
       "      <th>Month_name</th>\n",
       "    </tr>\n",
       "  </thead>\n",
       "  <tbody>\n",
       "    <tr>\n",
       "      <th>262</th>\n",
       "      <td>West Bengal</td>\n",
       "      <td>2020-06-30</td>\n",
       "      <td>M</td>\n",
       "      <td>7.29</td>\n",
       "      <td>30726310</td>\n",
       "      <td>40.39</td>\n",
       "      <td>East</td>\n",
       "      <td>22.9868</td>\n",
       "      <td>87.855</td>\n",
       "      <td>6</td>\n",
       "      <td>6</td>\n",
       "      <td>Jun</td>\n",
       "    </tr>\n",
       "    <tr>\n",
       "      <th>263</th>\n",
       "      <td>West Bengal</td>\n",
       "      <td>2020-07-31</td>\n",
       "      <td>M</td>\n",
       "      <td>6.83</td>\n",
       "      <td>35372506</td>\n",
       "      <td>46.17</td>\n",
       "      <td>East</td>\n",
       "      <td>22.9868</td>\n",
       "      <td>87.855</td>\n",
       "      <td>7</td>\n",
       "      <td>7</td>\n",
       "      <td>Jul</td>\n",
       "    </tr>\n",
       "    <tr>\n",
       "      <th>264</th>\n",
       "      <td>West Bengal</td>\n",
       "      <td>2020-08-31</td>\n",
       "      <td>M</td>\n",
       "      <td>14.87</td>\n",
       "      <td>33298644</td>\n",
       "      <td>47.48</td>\n",
       "      <td>East</td>\n",
       "      <td>22.9868</td>\n",
       "      <td>87.855</td>\n",
       "      <td>8</td>\n",
       "      <td>8</td>\n",
       "      <td>Aug</td>\n",
       "    </tr>\n",
       "    <tr>\n",
       "      <th>265</th>\n",
       "      <td>West Bengal</td>\n",
       "      <td>2020-09-30</td>\n",
       "      <td>M</td>\n",
       "      <td>9.35</td>\n",
       "      <td>35707239</td>\n",
       "      <td>47.73</td>\n",
       "      <td>East</td>\n",
       "      <td>22.9868</td>\n",
       "      <td>87.855</td>\n",
       "      <td>9</td>\n",
       "      <td>9</td>\n",
       "      <td>Sep</td>\n",
       "    </tr>\n",
       "    <tr>\n",
       "      <th>266</th>\n",
       "      <td>West Bengal</td>\n",
       "      <td>2020-10-31</td>\n",
       "      <td>M</td>\n",
       "      <td>9.98</td>\n",
       "      <td>33962549</td>\n",
       "      <td>45.63</td>\n",
       "      <td>East</td>\n",
       "      <td>22.9868</td>\n",
       "      <td>87.855</td>\n",
       "      <td>10</td>\n",
       "      <td>10</td>\n",
       "      <td>Oct</td>\n",
       "    </tr>\n",
       "  </tbody>\n",
       "</table>\n",
       "</div>"
      ],
      "text/plain": [
       "           State       Date Frequency  Estimated unemployment rate  \\\n",
       "262  West Bengal 2020-06-30         M                         7.29   \n",
       "263  West Bengal 2020-07-31         M                         6.83   \n",
       "264  West Bengal 2020-08-31         M                        14.87   \n",
       "265  West Bengal 2020-09-30         M                         9.35   \n",
       "266  West Bengal 2020-10-31         M                         9.98   \n",
       "\n",
       "     Estimated employed  Estimated labour participation rate Region  \\\n",
       "262            30726310                                40.39   East   \n",
       "263            35372506                                46.17   East   \n",
       "264            33298644                                47.48   East   \n",
       "265            35707239                                47.73   East   \n",
       "266            33962549                                45.63   East   \n",
       "\n",
       "     Longitude  Latitude  month  Month_int Month_name  \n",
       "262    22.9868    87.855      6          6        Jun  \n",
       "263    22.9868    87.855      7          7        Jul  \n",
       "264    22.9868    87.855      8          8        Aug  \n",
       "265    22.9868    87.855      9          9        Sep  \n",
       "266    22.9868    87.855     10         10        Oct  "
      ]
     },
     "execution_count": 18,
     "metadata": {},
     "output_type": "execute_result"
    }
   ],
   "source": [
    "df.tail()"
   ]
  },
  {
   "cell_type": "markdown",
   "id": "c5bc55e2",
   "metadata": {},
   "source": [
    "## Exploratory Data Analysis"
   ]
  },
  {
   "cell_type": "code",
   "execution_count": 19,
   "id": "026f52f0",
   "metadata": {},
   "outputs": [
    {
     "data": {
      "text/plain": [
       "North        79\n",
       "South        60\n",
       "West         50\n",
       "East         40\n",
       "Northeast    38\n",
       "Name: Region, dtype: int64"
      ]
     },
     "execution_count": 19,
     "metadata": {},
     "output_type": "execute_result"
    }
   ],
   "source": [
    "df['Region'].value_counts()"
   ]
  },
  {
   "cell_type": "code",
   "execution_count": 20,
   "id": "2c460860",
   "metadata": {},
   "outputs": [
    {
     "data": {
      "text/plain": [
       "(array([0, 1, 2, 3, 4]),\n",
       " [Text(0, 0, 'East'),\n",
       "  Text(1, 0, 'North'),\n",
       "  Text(2, 0, 'Northeast'),\n",
       "  Text(3, 0, 'South'),\n",
       "  Text(4, 0, 'West')])"
      ]
     },
     "execution_count": 20,
     "metadata": {},
     "output_type": "execute_result"
    },
    {
     "data": {
      "image/png": "[encoded data removed]",
      "text/plain": [
       "<Figure size 640x480 with 1 Axes>"
      ]
     },
     "metadata": {},
     "output_type": "display_data"
    }
   ],
   "source": [
    "sns.countplot(x=df['Region'])\n",
    "plt.xticks(rotation=90)"
   ]
  },
  {
   "cell_type": "code",
   "execution_count": 21,
   "id": "6287895a",
   "metadata": {},
   "outputs": [
    {
     "data": {
      "text/plain": [
       "<AxesSubplot:xlabel='Region', ylabel='count'>"
      ]
     },
     "execution_count": 21,
     "metadata": {},
     "output_type": "execute_result"
    },
    {
     "data": {
      "image/png": "[encoded data removed]",
      "text/plain": [
       "<Figure size 640x480 with 1 Axes>"
      ]
     },
     "metadata": {},
     "output_type": "display_data"
    }
   ],
   "source": [
    "sns.countplot(x=df['Region'])"
   ]
  },
  {
   "cell_type": "code",
   "execution_count": 22,
   "id": "2616313e",
   "metadata": {},
   "outputs": [
    {
     "data": {
      "text/html": [
       "<div>\n",
       "<style scoped>\n",
       "    .dataframe tbody tr th:only-of-type {\n",
       "        vertical-align: middle;\n",
       "    }\n",
       "\n",
       "    .dataframe tbody tr th {\n",
       "        vertical-align: top;\n",
       "    }\n",
       "\n",
       "    .dataframe thead th {\n",
       "        text-align: right;\n",
       "    }\n",
       "</style>\n",
       "<table border=\"1\" class=\"dataframe\">\n",
       "  <thead>\n",
       "    <tr style=\"text-align: right;\">\n",
       "      <th></th>\n",
       "      <th>count</th>\n",
       "      <th>mean</th>\n",
       "      <th>std</th>\n",
       "      <th>min</th>\n",
       "      <th>25%</th>\n",
       "      <th>50%</th>\n",
       "      <th>75%</th>\n",
       "      <th>max</th>\n",
       "    </tr>\n",
       "  </thead>\n",
       "  <tbody>\n",
       "    <tr>\n",
       "      <th>Estimated unemployment rate</th>\n",
       "      <td>267.0</td>\n",
       "      <td>12.24</td>\n",
       "      <td>10.80</td>\n",
       "      <td>0.50</td>\n",
       "      <td>4.84</td>\n",
       "      <td>9.65</td>\n",
       "      <td>16.76</td>\n",
       "      <td>75.85</td>\n",
       "    </tr>\n",
       "    <tr>\n",
       "      <th>Estimated employed</th>\n",
       "      <td>267.0</td>\n",
       "      <td>13962105.72</td>\n",
       "      <td>13366318.36</td>\n",
       "      <td>117542.00</td>\n",
       "      <td>2838930.50</td>\n",
       "      <td>9732417.00</td>\n",
       "      <td>21878686.00</td>\n",
       "      <td>59433759.00</td>\n",
       "    </tr>\n",
       "    <tr>\n",
       "      <th>Estimated labour participation rate</th>\n",
       "      <td>267.0</td>\n",
       "      <td>41.68</td>\n",
       "      <td>7.85</td>\n",
       "      <td>16.77</td>\n",
       "      <td>37.26</td>\n",
       "      <td>40.39</td>\n",
       "      <td>44.06</td>\n",
       "      <td>69.69</td>\n",
       "    </tr>\n",
       "  </tbody>\n",
       "</table>\n",
       "</div>"
      ],
      "text/plain": [
       "                                     count         mean          std  \\\n",
       "Estimated unemployment rate          267.0        12.24        10.80   \n",
       "Estimated employed                   267.0  13962105.72  13366318.36   \n",
       "Estimated labour participation rate  267.0        41.68         7.85   \n",
       "\n",
       "                                           min         25%         50%  \\\n",
       "Estimated unemployment rate               0.50        4.84        9.65   \n",
       "Estimated employed                   117542.00  2838930.50  9732417.00   \n",
       "Estimated labour participation rate      16.77       37.26       40.39   \n",
       "\n",
       "                                             75%          max  \n",
       "Estimated unemployment rate                16.76        75.85  \n",
       "Estimated employed                   21878686.00  59433759.00  \n",
       "Estimated labour participation rate        44.06        69.69  "
      ]
     },
     "execution_count": 22,
     "metadata": {},
     "output_type": "execute_result"
    }
   ],
   "source": [
    "data_stats = df[['Estimated unemployment rate', 'Estimated employed', 'Estimated labour participation rate']]\n",
    "round(data_stats.describe().T, 2)"
   ]
  },
  {
   "cell_type": "code",
   "execution_count": 23,
   "id": "1a1a906a",
   "metadata": {},
   "outputs": [
    {
     "data": {
      "text/html": [
       "<div>\n",
       "<style scoped>\n",
       "    .dataframe tbody tr th:only-of-type {\n",
       "        vertical-align: middle;\n",
       "    }\n",
       "\n",
       "    .dataframe tbody tr th {\n",
       "        vertical-align: top;\n",
       "    }\n",
       "\n",
       "    .dataframe thead th {\n",
       "        text-align: right;\n",
       "    }\n",
       "</style>\n",
       "<table border=\"1\" class=\"dataframe\">\n",
       "  <thead>\n",
       "    <tr style=\"text-align: right;\">\n",
       "      <th></th>\n",
       "      <th>Region</th>\n",
       "      <th>Estimated unemployment rate</th>\n",
       "      <th>Estimated employed</th>\n",
       "      <th>Estimated labour participation rate</th>\n",
       "    </tr>\n",
       "  </thead>\n",
       "  <tbody>\n",
       "    <tr>\n",
       "      <th>0</th>\n",
       "      <td>East</td>\n",
       "      <td>13.92</td>\n",
       "      <td>19602366.90</td>\n",
       "      <td>40.11</td>\n",
       "    </tr>\n",
       "    <tr>\n",
       "      <th>1</th>\n",
       "      <td>North</td>\n",
       "      <td>15.89</td>\n",
       "      <td>13072487.92</td>\n",
       "      <td>38.70</td>\n",
       "    </tr>\n",
       "    <tr>\n",
       "      <th>2</th>\n",
       "      <td>Northeast</td>\n",
       "      <td>10.95</td>\n",
       "      <td>3617105.53</td>\n",
       "      <td>52.06</td>\n",
       "    </tr>\n",
       "    <tr>\n",
       "      <th>3</th>\n",
       "      <td>South</td>\n",
       "      <td>10.45</td>\n",
       "      <td>14040589.33</td>\n",
       "      <td>40.44</td>\n",
       "    </tr>\n",
       "    <tr>\n",
       "      <th>4</th>\n",
       "      <td>West</td>\n",
       "      <td>8.24</td>\n",
       "      <td>18623512.72</td>\n",
       "      <td>41.26</td>\n",
       "    </tr>\n",
       "  </tbody>\n",
       "</table>\n",
       "</div>"
      ],
      "text/plain": [
       "      Region  Estimated unemployment rate  Estimated employed  \\\n",
       "0       East                        13.92         19602366.90   \n",
       "1      North                        15.89         13072487.92   \n",
       "2  Northeast                        10.95          3617105.53   \n",
       "3      South                        10.45         14040589.33   \n",
       "4       West                         8.24         18623512.72   \n",
       "\n",
       "   Estimated labour participation rate  \n",
       "0                                40.11  \n",
       "1                                38.70  \n",
       "2                                52.06  \n",
       "3                                40.44  \n",
       "4                                41.26  "
      ]
     },
     "execution_count": 23,
     "metadata": {},
     "output_type": "execute_result"
    }
   ],
   "source": [
    "region_stats = df.groupby(['Region'])[['Estimated unemployment rate', 'Estimated employed', 'Estimated labour participation rate']].mean().reset_index()\n",
    "round(region_stats, 2)"
   ]
  },
  {
   "cell_type": "markdown",
   "id": "08be0766",
   "metadata": {},
   "source": [
    "## Visualization\n"
   ]
  },
  {
   "cell_type": "code",
   "execution_count": 24,
   "id": "2339f465",
   "metadata": {},
   "outputs": [
    {
     "data": {
      "text/plain": [
       "<AxesSubplot:>"
      ]
     },
     "execution_count": 24,
     "metadata": {},
     "output_type": "execute_result"
    },
    {
     "data": {
      "image/png": "[encoded data removed]",
      "text/plain": [
       "<Figure size 1000x500 with 2 Axes>"
      ]
     },
     "metadata": {},
     "output_type": "display_data"
    }
   ],
   "source": [
    "heat_maps = df[[\"Estimated unemployment rate\", \"Estimated employed\",\"Estimated labour participation rate\",'Longitude','Latitude','Month_int']]\n",
    "heat_maps = heat_maps.corr()\n",
    "plt.figure(figsize=(10,5))\n",
    "sns.set_context(\"notebook\",font_scale=1)\n",
    "sns.heatmap(heat_maps,annot=True , cmap='coolwarm')"
   ]
  },
  {
   "cell_type": "code",
   "execution_count": 25,
   "id": "0054578e",
   "metadata": {},
   "outputs": [],
   "source": [
    "# Renaming columns for easier access\n",
    "df1= df.rename(columns={ ' Estimated Unemployment Rate (%)' : 'est_unemp_perc', ' Estimated Employed' : 'est_emp',\n",
    "                          ' Estimated Labour Participation Rate (%)' : 'est_labour_perc'}).reset_index(drop = True)"
   ]
  },
  {
   "cell_type": "code",
   "execution_count": 26,
   "id": "ddfe480d",
   "metadata": {},
   "outputs": [
    {
     "data": {
      "text/html": [
       "<div>\n",
       "<style scoped>\n",
       "    .dataframe tbody tr th:only-of-type {\n",
       "        vertical-align: middle;\n",
       "    }\n",
       "\n",
       "    .dataframe tbody tr th {\n",
       "        vertical-align: top;\n",
       "    }\n",
       "\n",
       "    .dataframe thead th {\n",
       "        text-align: right;\n",
       "    }\n",
       "</style>\n",
       "<table border=\"1\" class=\"dataframe\">\n",
       "  <thead>\n",
       "    <tr style=\"text-align: right;\">\n",
       "      <th></th>\n",
       "      <th>State</th>\n",
       "      <th>Date</th>\n",
       "      <th>Frequency</th>\n",
       "      <th>Estimated unemployment rate</th>\n",
       "      <th>Estimated employed</th>\n",
       "      <th>Estimated labour participation rate</th>\n",
       "      <th>Region</th>\n",
       "      <th>Longitude</th>\n",
       "      <th>Latitude</th>\n",
       "      <th>month</th>\n",
       "      <th>Month_int</th>\n",
       "      <th>Month_name</th>\n",
       "    </tr>\n",
       "  </thead>\n",
       "  <tbody>\n",
       "    <tr>\n",
       "      <th>0</th>\n",
       "      <td>Andhra Pradesh</td>\n",
       "      <td>2020-01-31</td>\n",
       "      <td>M</td>\n",
       "      <td>5.48</td>\n",
       "      <td>16635535</td>\n",
       "      <td>41.02</td>\n",
       "      <td>South</td>\n",
       "      <td>15.9129</td>\n",
       "      <td>79.740</td>\n",
       "      <td>1</td>\n",
       "      <td>1</td>\n",
       "      <td>Jan</td>\n",
       "    </tr>\n",
       "    <tr>\n",
       "      <th>1</th>\n",
       "      <td>Andhra Pradesh</td>\n",
       "      <td>2020-02-29</td>\n",
       "      <td>M</td>\n",
       "      <td>5.83</td>\n",
       "      <td>16545652</td>\n",
       "      <td>40.90</td>\n",
       "      <td>South</td>\n",
       "      <td>15.9129</td>\n",
       "      <td>79.740</td>\n",
       "      <td>2</td>\n",
       "      <td>2</td>\n",
       "      <td>Feb</td>\n",
       "    </tr>\n",
       "    <tr>\n",
       "      <th>2</th>\n",
       "      <td>Andhra Pradesh</td>\n",
       "      <td>2020-03-31</td>\n",
       "      <td>M</td>\n",
       "      <td>5.79</td>\n",
       "      <td>15881197</td>\n",
       "      <td>39.18</td>\n",
       "      <td>South</td>\n",
       "      <td>15.9129</td>\n",
       "      <td>79.740</td>\n",
       "      <td>3</td>\n",
       "      <td>3</td>\n",
       "      <td>Mar</td>\n",
       "    </tr>\n",
       "    <tr>\n",
       "      <th>3</th>\n",
       "      <td>Andhra Pradesh</td>\n",
       "      <td>2020-04-30</td>\n",
       "      <td>M</td>\n",
       "      <td>20.51</td>\n",
       "      <td>11336911</td>\n",
       "      <td>33.10</td>\n",
       "      <td>South</td>\n",
       "      <td>15.9129</td>\n",
       "      <td>79.740</td>\n",
       "      <td>4</td>\n",
       "      <td>4</td>\n",
       "      <td>Apr</td>\n",
       "    </tr>\n",
       "    <tr>\n",
       "      <th>4</th>\n",
       "      <td>Andhra Pradesh</td>\n",
       "      <td>2020-05-31</td>\n",
       "      <td>M</td>\n",
       "      <td>17.43</td>\n",
       "      <td>12988845</td>\n",
       "      <td>36.46</td>\n",
       "      <td>South</td>\n",
       "      <td>15.9129</td>\n",
       "      <td>79.740</td>\n",
       "      <td>5</td>\n",
       "      <td>5</td>\n",
       "      <td>May</td>\n",
       "    </tr>\n",
       "    <tr>\n",
       "      <th>...</th>\n",
       "      <td>...</td>\n",
       "      <td>...</td>\n",
       "      <td>...</td>\n",
       "      <td>...</td>\n",
       "      <td>...</td>\n",
       "      <td>...</td>\n",
       "      <td>...</td>\n",
       "      <td>...</td>\n",
       "      <td>...</td>\n",
       "      <td>...</td>\n",
       "      <td>...</td>\n",
       "      <td>...</td>\n",
       "    </tr>\n",
       "    <tr>\n",
       "      <th>262</th>\n",
       "      <td>West Bengal</td>\n",
       "      <td>2020-06-30</td>\n",
       "      <td>M</td>\n",
       "      <td>7.29</td>\n",
       "      <td>30726310</td>\n",
       "      <td>40.39</td>\n",
       "      <td>East</td>\n",
       "      <td>22.9868</td>\n",
       "      <td>87.855</td>\n",
       "      <td>6</td>\n",
       "      <td>6</td>\n",
       "      <td>Jun</td>\n",
       "    </tr>\n",
       "    <tr>\n",
       "      <th>263</th>\n",
       "      <td>West Bengal</td>\n",
       "      <td>2020-07-31</td>\n",
       "      <td>M</td>\n",
       "      <td>6.83</td>\n",
       "      <td>35372506</td>\n",
       "      <td>46.17</td>\n",
       "      <td>East</td>\n",
       "      <td>22.9868</td>\n",
       "      <td>87.855</td>\n",
       "      <td>7</td>\n",
       "      <td>7</td>\n",
       "      <td>Jul</td>\n",
       "    </tr>\n",
       "    <tr>\n",
       "      <th>264</th>\n",
       "      <td>West Bengal</td>\n",
       "      <td>2020-08-31</td>\n",
       "      <td>M</td>\n",
       "      <td>14.87</td>\n",
       "      <td>33298644</td>\n",
       "      <td>47.48</td>\n",
       "      <td>East</td>\n",
       "      <td>22.9868</td>\n",
       "      <td>87.855</td>\n",
       "      <td>8</td>\n",
       "      <td>8</td>\n",
       "      <td>Aug</td>\n",
       "    </tr>\n",
       "    <tr>\n",
       "      <th>265</th>\n",
       "      <td>West Bengal</td>\n",
       "      <td>2020-09-30</td>\n",
       "      <td>M</td>\n",
       "      <td>9.35</td>\n",
       "      <td>35707239</td>\n",
       "      <td>47.73</td>\n",
       "      <td>East</td>\n",
       "      <td>22.9868</td>\n",
       "      <td>87.855</td>\n",
       "      <td>9</td>\n",
       "      <td>9</td>\n",
       "      <td>Sep</td>\n",
       "    </tr>\n",
       "    <tr>\n",
       "      <th>266</th>\n",
       "      <td>West Bengal</td>\n",
       "      <td>2020-10-31</td>\n",
       "      <td>M</td>\n",
       "      <td>9.98</td>\n",
       "      <td>33962549</td>\n",
       "      <td>45.63</td>\n",
       "      <td>East</td>\n",
       "      <td>22.9868</td>\n",
       "      <td>87.855</td>\n",
       "      <td>10</td>\n",
       "      <td>10</td>\n",
       "      <td>Oct</td>\n",
       "    </tr>\n",
       "  </tbody>\n",
       "</table>\n",
       "<p>267 rows × 12 columns</p>\n",
       "</div>"
      ],
      "text/plain": [
       "              State       Date Frequency  Estimated unemployment rate  \\\n",
       "0    Andhra Pradesh 2020-01-31         M                         5.48   \n",
       "1    Andhra Pradesh 2020-02-29         M                         5.83   \n",
       "2    Andhra Pradesh 2020-03-31         M                         5.79   \n",
       "3    Andhra Pradesh 2020-04-30         M                        20.51   \n",
       "4    Andhra Pradesh 2020-05-31         M                        17.43   \n",
       "..              ...        ...       ...                          ...   \n",
       "262     West Bengal 2020-06-30         M                         7.29   \n",
       "263     West Bengal 2020-07-31         M                         6.83   \n",
       "264     West Bengal 2020-08-31         M                        14.87   \n",
       "265     West Bengal 2020-09-30         M                         9.35   \n",
       "266     West Bengal 2020-10-31         M                         9.98   \n",
       "\n",
       "     Estimated employed  Estimated labour participation rate Region  \\\n",
       "0              16635535                                41.02  South   \n",
       "1              16545652                                40.90  South   \n",
       "2              15881197                                39.18  South   \n",
       "3              11336911                                33.10  South   \n",
       "4              12988845                                36.46  South   \n",
       "..                  ...                                  ...    ...   \n",
       "262            30726310                                40.39   East   \n",
       "263            35372506                                46.17   East   \n",
       "264            33298644                                47.48   East   \n",
       "265            35707239                                47.73   East   \n",
       "266            33962549                                45.63   East   \n",
       "\n",
       "     Longitude  Latitude  month  Month_int Month_name  \n",
       "0      15.9129    79.740      1          1        Jan  \n",
       "1      15.9129    79.740      2          2        Feb  \n",
       "2      15.9129    79.740      3          3        Mar  \n",
       "3      15.9129    79.740      4          4        Apr  \n",
       "4      15.9129    79.740      5          5        May  \n",
       "..         ...       ...    ...        ...        ...  \n",
       "262    22.9868    87.855      6          6        Jun  \n",
       "263    22.9868    87.855      7          7        Jul  \n",
       "264    22.9868    87.855      8          8        Aug  \n",
       "265    22.9868    87.855      9          9        Sep  \n",
       "266    22.9868    87.855     10         10        Oct  \n",
       "\n",
       "[267 rows x 12 columns]"
      ]
     },
     "execution_count": 26,
     "metadata": {},
     "output_type": "execute_result"
    }
   ],
   "source": [
    "df1  "
   ]
  },
  {
   "cell_type": "code",
   "execution_count": 27,
   "id": "3b9eb1c7",
   "metadata": {},
   "outputs": [
    {
     "data": {
      "text/plain": [
       "State                                  0\n",
       "Date                                   0\n",
       "Frequency                              0\n",
       "Estimated unemployment rate            0\n",
       "Estimated employed                     0\n",
       "Estimated labour participation rate    0\n",
       "Region                                 0\n",
       "Longitude                              0\n",
       "Latitude                               0\n",
       "month                                  0\n",
       "Month_int                              0\n",
       "Month_name                             0\n",
       "dtype: int64"
      ]
     },
     "execution_count": 27,
     "metadata": {},
     "output_type": "execute_result"
    }
   ],
   "source": [
    "df1.isna().sum()"
   ]
  }
 ],
 "metadata": {
  "kernelspec": {
   "display_name": "Python 3 (ipykernel)",
   "language": "python",
   "name": "python3"
  },
  "language_info": {
   "codemirror_mode": {
    "name": "ipython",
    "version": 3
   },
   "file_extension": ".py",
   "mimetype": "text/x-python",
   "name": "python",
   "nbconvert_exporter": "python",
   "pygments_lexer": "ipython3",
   "version": "3.9.13"
  }
 },
 "nbformat": 4,
 "nbformat_minor": 5
}
